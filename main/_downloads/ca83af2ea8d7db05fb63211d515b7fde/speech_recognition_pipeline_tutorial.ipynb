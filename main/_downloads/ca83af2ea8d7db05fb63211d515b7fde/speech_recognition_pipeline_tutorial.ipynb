{
  "cells": [
    {
      "cell_type": "markdown",
      "metadata": {
        "id": "view-in-github",
        "colab_type": "text"
      },
      "source": [
        "<a href=\"https://colab.research.google.com/github/rakibsejon/practice_streamlit/blob/main/main/_downloads/ca83af2ea8d7db05fb63211d515b7fde/speech_recognition_pipeline_tutorial.ipynb\" target=\"_parent\"><img src=\"https://colab.research.google.com/assets/colab-badge.svg\" alt=\"Open In Colab\"/></a>"
      ]
    },
    {
      "cell_type": "markdown",
      "metadata": {
        "id": "qbeNFqPJrDH0"
      },
      "source": [
        "\n",
        "# Speech Recognition with Wav2Vec2\n",
        "\n",
        "**Author**: [Moto Hira](moto@meta.com)_\n",
        "\n",
        "This tutorial shows how to perform speech recognition using using\n",
        "pre-trained models from wav2vec 2.0\n",
        "[[paper](https://arxiv.org/abs/2006.11477)_].\n"
      ]
    },
    {
      "cell_type": "markdown",
      "metadata": {
        "id": "SFJ4P4IxrDH2"
      },
      "source": [
        "## Overview\n",
        "\n",
        "The process of speech recognition looks like the following.\n",
        "\n",
        "1. Extract the acoustic features from audio waveform\n",
        "\n",
        "2. Estimate the class of the acoustic features frame-by-frame\n",
        "\n",
        "3. Generate hypothesis from the sequence of the class probabilities\n",
        "\n",
        "Torchaudio provides easy access to the pre-trained weights and\n",
        "associated information, such as the expected sample rate and class\n",
        "labels. They are bundled together and available under\n",
        ":py:mod:`torchaudio.pipelines` module.\n",
        "\n",
        "\n"
      ]
    },
    {
      "cell_type": "markdown",
      "metadata": {
        "id": "VvosM013rDH2"
      },
      "source": [
        "## Preparation\n",
        "\n",
        "\n"
      ]
    },
    {
      "cell_type": "code",
      "execution_count": 1,
      "metadata": {
        "colab": {
          "base_uri": "https://localhost:8080/"
        },
        "id": "8TtDYpo5rDH3",
        "outputId": "0696c7ae-6c47-4325-bb69-5554ea84d61e"
      },
      "outputs": [
        {
          "output_type": "stream",
          "name": "stdout",
          "text": [
            "2.5.1+cu124\n",
            "2.5.1+cu124\n",
            "cpu\n"
          ]
        }
      ],
      "source": [
        "import torch\n",
        "import torchaudio\n",
        "\n",
        "print(torch.__version__)\n",
        "print(torchaudio.__version__)\n",
        "\n",
        "torch.random.manual_seed(0)\n",
        "device = torch.device(\"cuda\" if torch.cuda.is_available() else \"cpu\")\n",
        "\n",
        "print(device)"
      ]
    },
    {
      "cell_type": "code",
      "execution_count": null,
      "metadata": {
        "id": "4A71U-YXrDH3"
      },
      "outputs": [],
      "source": [
        "import IPython\n",
        "import matplotlib.pyplot as plt\n",
        "from torchaudio.utils import download_asset\n",
        "\n",
        "SPEECH_FILE = download_asset(\"tutorial-assets/Lab41-SRI-VOiCES-src-sp0307-ch127535-sg0042.wav\")"
      ]
    },
    {
      "cell_type": "markdown",
      "metadata": {
        "id": "m_gQUZpurDH4"
      },
      "source": [
        "## Creating a pipeline\n",
        "\n",
        "First, we will create a Wav2Vec2 model that performs the feature\n",
        "extraction and the classification.\n",
        "\n",
        "There are two types of Wav2Vec2 pre-trained weights available in\n",
        "torchaudio. The ones fine-tuned for ASR task, and the ones not\n",
        "fine-tuned.\n",
        "\n",
        "Wav2Vec2 (and HuBERT) models are trained in self-supervised manner. They\n",
        "are firstly trained with audio only for representation learning, then\n",
        "fine-tuned for a specific task with additional labels.\n",
        "\n",
        "The pre-trained weights without fine-tuning can be fine-tuned\n",
        "for other downstream tasks as well, but this tutorial does not\n",
        "cover that.\n",
        "\n",
        "We will use :py:data:`torchaudio.pipelines.WAV2VEC2_ASR_BASE_960H` here.\n",
        "\n",
        "There are multiple pre-trained models available in :py:mod:`torchaudio.pipelines`.\n",
        "Please check the documentation for the detail of how they are trained.\n",
        "\n",
        "The bundle object provides the interface to instantiate model and other\n",
        "information. Sampling rate and the class labels are found as follow.\n",
        "\n",
        "\n"
      ]
    },
    {
      "cell_type": "code",
      "execution_count": null,
      "metadata": {
        "id": "-dhxtd63rDH4"
      },
      "outputs": [],
      "source": [
        "bundle = torchaudio.pipelines.WAV2VEC2_ASR_BASE_960H\n",
        "\n",
        "print(\"Sample Rate:\", bundle.sample_rate)\n",
        "\n",
        "print(\"Labels:\", bundle.get_labels())"
      ]
    },
    {
      "cell_type": "markdown",
      "metadata": {
        "id": "-L_gHZxRrDH4"
      },
      "source": [
        "Model can be constructed as following. This process will automatically\n",
        "fetch the pre-trained weights and load it into the model.\n",
        "\n",
        "\n"
      ]
    },
    {
      "cell_type": "code",
      "execution_count": null,
      "metadata": {
        "id": "a-4NJsPYrDH5"
      },
      "outputs": [],
      "source": [
        "model = bundle.get_model().to(device)\n",
        "\n",
        "print(model.__class__)"
      ]
    },
    {
      "cell_type": "markdown",
      "metadata": {
        "id": "Q-EgRkQTrDH5"
      },
      "source": [
        "## Loading data\n",
        "\n",
        "We will use the speech data from [VOiCES\n",
        "dataset](https://iqtlabs.github.io/voices/)_, which is licensed under\n",
        "Creative Commos BY 4.0.\n",
        "\n",
        "\n"
      ]
    },
    {
      "cell_type": "code",
      "execution_count": null,
      "metadata": {
        "id": "1yekU6sSrDH6"
      },
      "outputs": [],
      "source": [
        "IPython.display.Audio(SPEECH_FILE)"
      ]
    },
    {
      "cell_type": "markdown",
      "metadata": {
        "id": "PcQ6PuKarDH6"
      },
      "source": [
        "To load data, we use :py:func:`torchaudio.load`.\n",
        "\n",
        "If the sampling rate is different from what the pipeline expects, then\n",
        "we can use :py:func:`torchaudio.functional.resample` for resampling.\n",
        "\n",
        "<div class=\"alert alert-info\"><h4>Note</h4><p>- :py:func:`torchaudio.functional.resample` works on CUDA tensors as well.\n",
        "   - When performing resampling multiple times on the same set of sample rates,\n",
        "     using :py:class:`torchaudio.transforms.Resample` might improve the performace.</p></div>\n",
        "\n",
        "\n"
      ]
    },
    {
      "cell_type": "code",
      "execution_count": null,
      "metadata": {
        "id": "oCEy7jjprDH6"
      },
      "outputs": [],
      "source": [
        "waveform, sample_rate = torchaudio.load(SPEECH_FILE)\n",
        "waveform = waveform.to(device)\n",
        "\n",
        "if sample_rate != bundle.sample_rate:\n",
        "    waveform = torchaudio.functional.resample(waveform, sample_rate, bundle.sample_rate)"
      ]
    },
    {
      "cell_type": "markdown",
      "metadata": {
        "id": "Qbk8axSDrDH7"
      },
      "source": [
        "## Extracting acoustic features\n",
        "\n",
        "The next step is to extract acoustic features from the audio.\n",
        "\n",
        "<div class=\"alert alert-info\"><h4>Note</h4><p>Wav2Vec2 models fine-tuned for ASR task can perform feature\n",
        "   extraction and classification with one step, but for the sake of the\n",
        "   tutorial, we also show how to perform feature extraction here.</p></div>\n",
        "\n",
        "\n"
      ]
    },
    {
      "cell_type": "code",
      "execution_count": null,
      "metadata": {
        "id": "YHT3KeEQrDH7"
      },
      "outputs": [],
      "source": [
        "with torch.inference_mode():\n",
        "    features, _ = model.extract_features(waveform)"
      ]
    },
    {
      "cell_type": "markdown",
      "metadata": {
        "id": "nZ-FLYXUrDH7"
      },
      "source": [
        "The returned features is a list of tensors. Each tensor is the output of\n",
        "a transformer layer.\n",
        "\n",
        "\n"
      ]
    },
    {
      "cell_type": "code",
      "execution_count": null,
      "metadata": {
        "id": "Gla8gKtvrDH7"
      },
      "outputs": [],
      "source": [
        "fig, ax = plt.subplots(len(features), 1, figsize=(16, 4.3 * len(features)))\n",
        "for i, feats in enumerate(features):\n",
        "    ax[i].imshow(feats[0].cpu(), interpolation=\"nearest\")\n",
        "    ax[i].set_title(f\"Feature from transformer layer {i+1}\")\n",
        "    ax[i].set_xlabel(\"Feature dimension\")\n",
        "    ax[i].set_ylabel(\"Frame (time-axis)\")\n",
        "fig.tight_layout()"
      ]
    },
    {
      "cell_type": "markdown",
      "metadata": {
        "id": "mY7h7GeRrDH7"
      },
      "source": [
        "## Feature classification\n",
        "\n",
        "Once the acoustic features are extracted, the next step is to classify\n",
        "them into a set of categories.\n",
        "\n",
        "Wav2Vec2 model provides method to perform the feature extraction and\n",
        "classification in one step.\n",
        "\n",
        "\n"
      ]
    },
    {
      "cell_type": "code",
      "execution_count": null,
      "metadata": {
        "id": "qqnmDWkgrDH7"
      },
      "outputs": [],
      "source": [
        "with torch.inference_mode():\n",
        "    emission, _ = model(waveform)"
      ]
    },
    {
      "cell_type": "markdown",
      "metadata": {
        "id": "uXihmEqtrDH7"
      },
      "source": [
        "The output is in the form of logits. It is not in the form of\n",
        "probability.\n",
        "\n",
        "Let’s visualize this.\n",
        "\n",
        "\n"
      ]
    },
    {
      "cell_type": "code",
      "execution_count": null,
      "metadata": {
        "id": "97J6BXltrDH7"
      },
      "outputs": [],
      "source": [
        "plt.imshow(emission[0].cpu().T, interpolation=\"nearest\")\n",
        "plt.title(\"Classification result\")\n",
        "plt.xlabel(\"Frame (time-axis)\")\n",
        "plt.ylabel(\"Class\")\n",
        "plt.tight_layout()\n",
        "print(\"Class labels:\", bundle.get_labels())"
      ]
    },
    {
      "cell_type": "markdown",
      "metadata": {
        "id": "XmsWYeQcrDH7"
      },
      "source": [
        "We can see that there are strong indications to certain labels across\n",
        "the time line.\n",
        "\n",
        "\n"
      ]
    },
    {
      "cell_type": "markdown",
      "metadata": {
        "id": "gN03tdqQrDH8"
      },
      "source": [
        "## Generating transcripts\n",
        "\n",
        "From the sequence of label probabilities, now we want to generate\n",
        "transcripts. The process to generate hypotheses is often called\n",
        "“decoding”.\n",
        "\n",
        "Decoding is more elaborate than simple classification because\n",
        "decoding at certain time step can be affected by surrounding\n",
        "observations.\n",
        "\n",
        "For example, take a word like ``night`` and ``knight``. Even if their\n",
        "prior probability distribution are differnt (in typical conversations,\n",
        "``night`` would occur way more often than ``knight``), to accurately\n",
        "generate transcripts with ``knight``, such as ``a knight with a sword``,\n",
        "the decoding process has to postpone the final decision until it sees\n",
        "enough context.\n",
        "\n",
        "There are many decoding techniques proposed, and they require external\n",
        "resources, such as word dictionary and language models.\n",
        "\n",
        "In this tutorial, for the sake of simplicity, we will perform greedy\n",
        "decoding which does not depend on such external components, and simply\n",
        "pick up the best hypothesis at each time step. Therefore, the context\n",
        "information are not used, and only one transcript can be generated.\n",
        "\n",
        "We start by defining greedy decoding algorithm.\n",
        "\n",
        "\n"
      ]
    },
    {
      "cell_type": "code",
      "execution_count": null,
      "metadata": {
        "id": "WMQ1wDblrDH8"
      },
      "outputs": [],
      "source": [
        "class GreedyCTCDecoder(torch.nn.Module):\n",
        "    def __init__(self, labels, blank=0):\n",
        "        super().__init__()\n",
        "        self.labels = labels\n",
        "        self.blank = blank\n",
        "\n",
        "    def forward(self, emission: torch.Tensor) -> str:\n",
        "        \"\"\"Given a sequence emission over labels, get the best path string\n",
        "        Args:\n",
        "          emission (Tensor): Logit tensors. Shape `[num_seq, num_label]`.\n",
        "\n",
        "        Returns:\n",
        "          str: The resulting transcript\n",
        "        \"\"\"\n",
        "        indices = torch.argmax(emission, dim=-1)  # [num_seq,]\n",
        "        indices = torch.unique_consecutive(indices, dim=-1)\n",
        "        indices = [i for i in indices if i != self.blank]\n",
        "        return \"\".join([self.labels[i] for i in indices])"
      ]
    },
    {
      "cell_type": "markdown",
      "metadata": {
        "id": "ivB_KEdLrDH8"
      },
      "source": [
        "Now create the decoder object and decode the transcript.\n",
        "\n",
        "\n"
      ]
    },
    {
      "cell_type": "code",
      "execution_count": null,
      "metadata": {
        "id": "ZKyibdXCrDH8"
      },
      "outputs": [],
      "source": [
        "decoder = GreedyCTCDecoder(labels=bundle.get_labels())\n",
        "transcript = decoder(emission[0])"
      ]
    },
    {
      "cell_type": "markdown",
      "metadata": {
        "id": "dcFt_4s_rDH8"
      },
      "source": [
        "Let’s check the result and listen again to the audio.\n",
        "\n",
        "\n"
      ]
    },
    {
      "cell_type": "code",
      "execution_count": null,
      "metadata": {
        "id": "PVJra88grDH8"
      },
      "outputs": [],
      "source": [
        "print(transcript)\n",
        "IPython.display.Audio(SPEECH_FILE)"
      ]
    },
    {
      "cell_type": "markdown",
      "metadata": {
        "id": "PnYKBmrJrDH8"
      },
      "source": [
        "The ASR model is fine-tuned using a loss function called Connectionist Temporal Classification (CTC).\n",
        "The detail of CTC loss is explained\n",
        "[here](https://distill.pub/2017/ctc/)_. In CTC a blank token (ϵ) is a\n",
        "special token which represents a repetition of the previous symbol. In\n",
        "decoding, these are simply ignored.\n",
        "\n",
        "\n"
      ]
    },
    {
      "cell_type": "markdown",
      "metadata": {
        "id": "Y7sS0MyirDH8"
      },
      "source": [
        "## Conclusion\n",
        "\n",
        "In this tutorial, we looked at how to use :py:class:`~torchaudio.pipelines.Wav2Vec2ASRBundle` to\n",
        "perform acoustic feature extraction and speech recognition. Constructing\n",
        "a model and getting the emission is as short as two lines.\n",
        "\n",
        "::\n",
        "\n",
        "   model = torchaudio.pipelines.WAV2VEC2_ASR_BASE_960H.get_model()\n",
        "   emission = model(waveforms, ...)\n",
        "\n",
        "\n"
      ]
    }
  ],
  "metadata": {
    "kernelspec": {
      "display_name": "Python 3",
      "language": "python",
      "name": "python3"
    },
    "language_info": {
      "codemirror_mode": {
        "name": "ipython",
        "version": 3
      },
      "file_extension": ".py",
      "mimetype": "text/x-python",
      "name": "python",
      "nbconvert_exporter": "python",
      "pygments_lexer": "ipython3",
      "version": "3.10.15"
    },
    "colab": {
      "provenance": [],
      "include_colab_link": true
    }
  },
  "nbformat": 4,
  "nbformat_minor": 0
}